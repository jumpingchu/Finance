{
 "cells": [
  {
   "cell_type": "code",
   "execution_count": 1,
   "metadata": {},
   "outputs": [],
   "source": [
    "import requests\n",
    "import pandas as pd"
   ]
  },
  {
   "cell_type": "code",
   "execution_count": 2,
   "metadata": {},
   "outputs": [],
   "source": [
    "res = requests.get(\"https://rate.bot.com.tw/xrt?Lang=zh-TW\")"
   ]
  },
  {
   "cell_type": "code",
   "execution_count": 3,
   "metadata": {},
   "outputs": [],
   "source": [
    "dfs = pd.read_html(res.text)"
   ]
  },
  {
   "cell_type": "code",
   "execution_count": 4,
   "metadata": {},
   "outputs": [],
   "source": [
    "currency = dfs[0]"
   ]
  },
  {
   "cell_type": "code",
   "execution_count": 5,
   "metadata": {},
   "outputs": [
    {
     "name": "stderr",
     "output_type": "stream",
     "text": [
      "D:\\Anaconda\\lib\\site-packages\\ipykernel_launcher.py:1: DeprecationWarning: \n",
      ".ix is deprecated. Please use\n",
      ".loc for label based indexing or\n",
      ".iloc for positional indexing\n",
      "\n",
      "See the documentation here:\n",
      "http://pandas.pydata.org/pandas-docs/stable/indexing.html#ix-indexer-is-deprecated\n",
      "  \"\"\"Entry point for launching an IPython kernel.\n"
     ]
    }
   ],
   "source": [
    "currency = currency.ix[:,0:5]"
   ]
  },
  {
   "cell_type": "code",
   "execution_count": 6,
   "metadata": {},
   "outputs": [],
   "source": [
    "currency.columns = ['幣別','現金買入','現金賣出','即期買入','即期賣出']"
   ]
  },
  {
   "cell_type": "code",
   "execution_count": 7,
   "metadata": {},
   "outputs": [],
   "source": [
    "currency.set_index('幣別',inplace=True)"
   ]
  },
  {
   "cell_type": "code",
   "execution_count": 8,
   "metadata": {},
   "outputs": [],
   "source": [
    "import sqlite3\n",
    "conn = sqlite3.connect('Currency.sqlite3')\n",
    "currency.to_sql('Currency', conn,  if_exists='replace')"
   ]
  },
  {
   "cell_type": "code",
   "execution_count": 9,
   "metadata": {},
   "outputs": [
    {
     "data": {
      "text/html": [
       "<div>\n",
       "<style scoped>\n",
       "    .dataframe tbody tr th:only-of-type {\n",
       "        vertical-align: middle;\n",
       "    }\n",
       "\n",
       "    .dataframe tbody tr th {\n",
       "        vertical-align: top;\n",
       "    }\n",
       "\n",
       "    .dataframe thead th {\n",
       "        text-align: right;\n",
       "    }\n",
       "</style>\n",
       "<table border=\"1\" class=\"dataframe\">\n",
       "  <thead>\n",
       "    <tr style=\"text-align: right;\">\n",
       "      <th></th>\n",
       "      <th>現金買入</th>\n",
       "      <th>現金賣出</th>\n",
       "      <th>即期買入</th>\n",
       "      <th>即期賣出</th>\n",
       "    </tr>\n",
       "    <tr>\n",
       "      <th>幣別</th>\n",
       "      <th></th>\n",
       "      <th></th>\n",
       "      <th></th>\n",
       "      <th></th>\n",
       "    </tr>\n",
       "  </thead>\n",
       "  <tbody>\n",
       "    <tr>\n",
       "      <th>美金 (USD)  美金 (USD)</th>\n",
       "      <td>30.375</td>\n",
       "      <td>31.065</td>\n",
       "      <td>30.745</td>\n",
       "      <td>30.845</td>\n",
       "    </tr>\n",
       "    <tr>\n",
       "      <th>港幣 (HKD)  港幣 (HKD)</th>\n",
       "      <td>3.761</td>\n",
       "      <td>3.977</td>\n",
       "      <td>3.897</td>\n",
       "      <td>3.957</td>\n",
       "    </tr>\n",
       "    <tr>\n",
       "      <th>英鎊 (GBP)  英鎊 (GBP)</th>\n",
       "      <td>38.08</td>\n",
       "      <td>40.2</td>\n",
       "      <td>39.08</td>\n",
       "      <td>39.5</td>\n",
       "    </tr>\n",
       "    <tr>\n",
       "      <th>澳幣 (AUD)  澳幣 (AUD)</th>\n",
       "      <td>21.83</td>\n",
       "      <td>22.61</td>\n",
       "      <td>22.1</td>\n",
       "      <td>22.33</td>\n",
       "    </tr>\n",
       "    <tr>\n",
       "      <th>加拿大幣 (CAD)  加拿大幣 (CAD)</th>\n",
       "      <td>22.84</td>\n",
       "      <td>23.75</td>\n",
       "      <td>23.23</td>\n",
       "      <td>23.45</td>\n",
       "    </tr>\n",
       "    <tr>\n",
       "      <th>新加坡幣 (SGD)  新加坡幣 (SGD)</th>\n",
       "      <td>22.22</td>\n",
       "      <td>23.13</td>\n",
       "      <td>22.71</td>\n",
       "      <td>22.89</td>\n",
       "    </tr>\n",
       "    <tr>\n",
       "      <th>瑞士法郎 (CHF)  瑞士法郎 (CHF)</th>\n",
       "      <td>30.54</td>\n",
       "      <td>31.74</td>\n",
       "      <td>31.2</td>\n",
       "      <td>31.49</td>\n",
       "    </tr>\n",
       "    <tr>\n",
       "      <th>日圓 (JPY)  日圓 (JPY)</th>\n",
       "      <td>0.2751</td>\n",
       "      <td>0.2879</td>\n",
       "      <td>0.2824</td>\n",
       "      <td>0.2864</td>\n",
       "    </tr>\n",
       "    <tr>\n",
       "      <th>南非幣 (ZAR)  南非幣 (ZAR)</th>\n",
       "      <td>-</td>\n",
       "      <td>-</td>\n",
       "      <td>2.18</td>\n",
       "      <td>2.26</td>\n",
       "    </tr>\n",
       "    <tr>\n",
       "      <th>瑞典幣 (SEK)  瑞典幣 (SEK)</th>\n",
       "      <td>3.08</td>\n",
       "      <td>3.6</td>\n",
       "      <td>3.42</td>\n",
       "      <td>3.52</td>\n",
       "    </tr>\n",
       "    <tr>\n",
       "      <th>紐元 (NZD)  紐元 (NZD)</th>\n",
       "      <td>20.55</td>\n",
       "      <td>21.4</td>\n",
       "      <td>20.93</td>\n",
       "      <td>21.13</td>\n",
       "    </tr>\n",
       "    <tr>\n",
       "      <th>泰幣 (THB)  泰幣 (THB)</th>\n",
       "      <td>0.841</td>\n",
       "      <td>1.029</td>\n",
       "      <td>0.9496</td>\n",
       "      <td>0.9896</td>\n",
       "    </tr>\n",
       "    <tr>\n",
       "      <th>菲國比索 (PHP)  菲國比索 (PHP)</th>\n",
       "      <td>0.5171</td>\n",
       "      <td>0.6501</td>\n",
       "      <td>-</td>\n",
       "      <td>-</td>\n",
       "    </tr>\n",
       "    <tr>\n",
       "      <th>印尼幣 (IDR)  印尼幣 (IDR)</th>\n",
       "      <td>0.00188</td>\n",
       "      <td>0.00258</td>\n",
       "      <td>-</td>\n",
       "      <td>-</td>\n",
       "    </tr>\n",
       "    <tr>\n",
       "      <th>歐元 (EUR)  歐元 (EUR)</th>\n",
       "      <td>34.69</td>\n",
       "      <td>36.03</td>\n",
       "      <td>35.31</td>\n",
       "      <td>35.71</td>\n",
       "    </tr>\n",
       "    <tr>\n",
       "      <th>韓元 (KRW)  韓元 (KRW)</th>\n",
       "      <td>0.02586</td>\n",
       "      <td>0.02976</td>\n",
       "      <td>-</td>\n",
       "      <td>-</td>\n",
       "    </tr>\n",
       "    <tr>\n",
       "      <th>越南盾 (VND)  越南盾 (VND)</th>\n",
       "      <td>0.00096</td>\n",
       "      <td>0.00146</td>\n",
       "      <td>-</td>\n",
       "      <td>-</td>\n",
       "    </tr>\n",
       "    <tr>\n",
       "      <th>馬來幣 (MYR)  馬來幣 (MYR)</th>\n",
       "      <td>6.426</td>\n",
       "      <td>8.056</td>\n",
       "      <td>-</td>\n",
       "      <td>-</td>\n",
       "    </tr>\n",
       "    <tr>\n",
       "      <th>人民幣 (CNY)  人民幣 (CNY)</th>\n",
       "      <td>4.468</td>\n",
       "      <td>4.63</td>\n",
       "      <td>4.54</td>\n",
       "      <td>4.59</td>\n",
       "    </tr>\n",
       "  </tbody>\n",
       "</table>\n",
       "</div>"
      ],
      "text/plain": [
       "                           現金買入     現金賣出    即期買入    即期賣出\n",
       "幣別                                                      \n",
       "美金 (USD)  美金 (USD)       30.375   31.065  30.745  30.845\n",
       "港幣 (HKD)  港幣 (HKD)        3.761    3.977   3.897   3.957\n",
       "英鎊 (GBP)  英鎊 (GBP)        38.08     40.2   39.08    39.5\n",
       "澳幣 (AUD)  澳幣 (AUD)        21.83    22.61    22.1   22.33\n",
       "加拿大幣 (CAD)  加拿大幣 (CAD)    22.84    23.75   23.23   23.45\n",
       "新加坡幣 (SGD)  新加坡幣 (SGD)    22.22    23.13   22.71   22.89\n",
       "瑞士法郎 (CHF)  瑞士法郎 (CHF)    30.54    31.74    31.2   31.49\n",
       "日圓 (JPY)  日圓 (JPY)       0.2751   0.2879  0.2824  0.2864\n",
       "南非幣 (ZAR)  南非幣 (ZAR)          -        -    2.18    2.26\n",
       "瑞典幣 (SEK)  瑞典幣 (SEK)       3.08      3.6    3.42    3.52\n",
       "紐元 (NZD)  紐元 (NZD)        20.55     21.4   20.93   21.13\n",
       "泰幣 (THB)  泰幣 (THB)        0.841    1.029  0.9496  0.9896\n",
       "菲國比索 (PHP)  菲國比索 (PHP)   0.5171   0.6501       -       -\n",
       "印尼幣 (IDR)  印尼幣 (IDR)    0.00188  0.00258       -       -\n",
       "歐元 (EUR)  歐元 (EUR)        34.69    36.03   35.31   35.71\n",
       "韓元 (KRW)  韓元 (KRW)      0.02586  0.02976       -       -\n",
       "越南盾 (VND)  越南盾 (VND)    0.00096  0.00146       -       -\n",
       "馬來幣 (MYR)  馬來幣 (MYR)      6.426    8.056       -       -\n",
       "人民幣 (CNY)  人民幣 (CNY)      4.468     4.63    4.54    4.59"
      ]
     },
     "execution_count": 9,
     "metadata": {},
     "output_type": "execute_result"
    }
   ],
   "source": [
    "currency"
   ]
  },
  {
   "cell_type": "code",
   "execution_count": null,
   "metadata": {},
   "outputs": [],
   "source": []
  }
 ],
 "metadata": {
  "kernelspec": {
   "display_name": "Python 3",
   "language": "python",
   "name": "python3"
  },
  "language_info": {
   "codemirror_mode": {
    "name": "ipython",
    "version": 3
   },
   "file_extension": ".py",
   "mimetype": "text/x-python",
   "name": "python",
   "nbconvert_exporter": "python",
   "pygments_lexer": "ipython3",
   "version": "3.7.3"
  }
 },
 "nbformat": 4,
 "nbformat_minor": 2
}
